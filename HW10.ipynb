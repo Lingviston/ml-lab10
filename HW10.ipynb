{
 "cells": [
  {
   "cell_type": "code",
   "execution_count": 6,
   "metadata": {
    "collapsed": true
   },
   "outputs": [],
   "source": [
    "import csv\n",
    "import math\n",
    "import random\n",
    "import numpy as np\n",
    "import matplotlib.pyplot as plt \n",
    "from operator import itemgetter\n",
    "from collections import Counter"
   ]
  },
  {
   "cell_type": "code",
   "execution_count": 7,
   "metadata": {
    "collapsed": true
   },
   "outputs": [],
   "source": [
    "iris_file_path = \"data/iris.data\"\n",
    "\n",
    "iris_classes = [\"Iris-setosa\", \"Iris-versicolor\", \"Iris-virginica\"]"
   ]
  },
  {
   "cell_type": "code",
   "execution_count": 8,
   "metadata": {
    "collapsed": true
   },
   "outputs": [],
   "source": [
    "def read_data(file_path):\n",
    "    matrix = list()\n",
    "    with open(file_path, newline='') as file:\n",
    "        reader = csv.reader(file, delimiter=',', quotechar='|')\n",
    "        for row in reader:\n",
    "            row[4] = iris_classes.index(row[4])\n",
    "            matrix_row = [float(x) for x in row[:-1]]\n",
    "            matrix_row.append(row[4])\n",
    "            matrix.append(matrix_row)\n",
    "    return matrix"
   ]
  },
  {
   "cell_type": "code",
   "execution_count": 49,
   "metadata": {
    "collapsed": true
   },
   "outputs": [],
   "source": [
    "def calculate_scalar_product(x, y):\n",
    "    assert len(x) == len(y)\n",
    "    \n",
    "    product = 0\n",
    "    \n",
    "    for i in range(0, len(x)):\n",
    "        product += x[i] * y[i]\n",
    "    \n",
    "    return product\n",
    "\n",
    "\n",
    "def calculate_euqlid_distance(x, y):\n",
    "    assert len(x) == len(y)\n",
    "    \n",
    "    difference = list()\n",
    "    for i in range(0, len(x)):\n",
    "        difference.append(x[i] - y[i])\n",
    "        \n",
    "    assert len(difference) == len(x)\n",
    "    \n",
    "    return math.sqrt(calculate_scalar_product(difference, difference))"
   ]
  },
  {
   "cell_type": "code",
   "execution_count": 50,
   "metadata": {
    "collapsed": true
   },
   "outputs": [],
   "source": [
    "MARK_INDEX = 4\n",
    "\n",
    "def classify(point, train_set, k):\n",
    "    assert len(train_set[0]) == 5\n",
    "    distances_and_marks = list()\n",
    "    \n",
    "    for x in train_set:\n",
    "        distance = math.sqrt(calculate_euqlid_distance(point, x[:-1]))\n",
    "        distances_and_marks.append((distance, x[MARK_INDEX]))\n",
    "        \n",
    "    distances_and_marks.sort(key=itemgetter(0))\n",
    "    \n",
    "    counter = Counter()\n",
    "    for distance, mark in distances_and_marks[:k]:\n",
    "        counter[mark] += 1\n",
    "    \n",
    "    return counter.most_common(1)[0][0]"
   ]
  },
  {
   "cell_type": "code",
   "execution_count": 51,
   "metadata": {
    "collapsed": true
   },
   "outputs": [],
   "source": [
    "def learn_k_fold(folds_count, train_set, k_values):\n",
    "    results = list()\n",
    "    fold_size = len(train_set) // folds_count\n",
    "    \n",
    "    for k in k_values:\n",
    "        accuracies = list()\n",
    "        errors = list()\n",
    "        for fold in range(folds_count):\n",
    "            validate_sample = train_set[fold * fold_size : (fold + 1) * fold_size]\n",
    "\n",
    "            learn_sample = train_set[0 : fold * fold_size] + train_set[(fold + 1) * fold_size:]\n",
    "                \n",
    "            assert len(validate_sample) + len(learn_sample) == len(train_set)\n",
    "                \n",
    "            assert len(validate_sample) == fold_size\n",
    "            assert len(validate_sample) == fold_size\n",
    "            \n",
    "            bad_count = 0\n",
    "            good_count = 0\n",
    "            for item in validate_sample:\n",
    "                mark = classify(item[:-1], learn_sample, k)\n",
    "                if mark == item[MARK_INDEX]:\n",
    "                    good_count += 1\n",
    "                else:\n",
    "                    bad_count += 1\n",
    "            \n",
    "            accuracies.append(good_count / len(validate_sample))\n",
    "            errors.append(bad_count / len(validate_sample)) # error returned not in percents\n",
    "                \n",
    "                \n",
    "        # Calculate average error\n",
    "        average_accuracy = sum(accuracies) / folds_count\n",
    "        print(\"Cross Validation Accuracy = \", average_accuracy)\n",
    "        average_error = sum(errors) / folds_count\n",
    "        print(\"Cross Validation Error = \", average_error)\n",
    "        sd = math.sqrt(sum([(average_error - error)**2 for error in errors]) / folds_count)\n",
    "        print(\"Standard Deviation = \", sd)\n",
    "    \n",
    "            \n",
    "        results.append((k, average_accuracy, average_error, sd))\n",
    "    \n",
    "    return results"
   ]
  },
  {
   "cell_type": "code",
   "execution_count": 100,
   "metadata": {},
   "outputs": [
    {
     "name": "stdout",
     "output_type": "stream",
     "text": [
      "Original dataset\n"
     ]
    },
    {
     "data": {
      "image/png": "[encoded data removed]",
      "text/plain": [
       "<matplotlib.figure.Figure at 0x27c99831eb8>"
      ]
     },
     "metadata": {},
     "output_type": "display_data"
    },
    {
     "name": "stdout",
     "output_type": "stream",
     "text": [
      "Test dataset\n"
     ]
    },
    {
     "data": {
      "image/png": "[encoded data removed]",
      "text/plain": [
       "<matplotlib.figure.Figure at 0x27c9956b4e0>"
      ]
     },
     "metadata": {},
     "output_type": "display_data"
    }
   ],
   "source": [
    "def draw_distribution(sample):\n",
    "    counter = Counter()\n",
    "    for element in sample:\n",
    "        counter[element[MARK_INDEX]] += 1\n",
    "    \n",
    "\n",
    "    hist_marks = list()\n",
    "    hist_counts = list()\n",
    "    for mark, count in counter.items():\n",
    "        hist_marks.append(mark)\n",
    "        hist_counts.append(count)\n",
    "    \n",
    "    \n",
    "    plt.bar(hist_marks, hist_counts)\n",
    "    plt.xlabel(\"Labels\")\n",
    "    plt.ylabel(\"Count\")\n",
    "    plt.show()\n",
    "\n",
    "    \n",
    "iris_data = read_data(iris_file_path)\n",
    "random.shuffle(iris_data)\n",
    "\n",
    "test_sample_size = len(iris_data) // 10\n",
    "test_sample = iris_data[:test_sample_size]\n",
    "learn_sample = iris_data[test_sample_size:]\n",
    "\n",
    "assert len(test_sample) + len(learn_sample) == len(iris_data)\n",
    "\n",
    "print(\"Original dataset\")\n",
    "draw_distribution(iris_data)\n",
    "\n",
    "print(\"Test dataset\")\n",
    "draw_distribution(test_sample)"
   ]
  },
  {
   "cell_type": "code",
   "execution_count": 101,
   "metadata": {},
   "outputs": [
    {
     "name": "stdout",
     "output_type": "stream",
     "text": [
      "Cross Validation Accuracy =  0.9555555555555557\n",
      "Cross Validation Error =  0.044444444444444446\n",
      "Standard Deviation =  0.04444444444444444\n",
      "Cross Validation Accuracy =  0.9555555555555557\n",
      "Cross Validation Error =  0.044444444444444446\n",
      "Standard Deviation =  0.04444444444444444\n",
      "Cross Validation Accuracy =  0.9629629629629631\n",
      "Cross Validation Error =  0.037037037037037035\n",
      "Standard Deviation =  0.03312693299999688\n",
      "Cross Validation Accuracy =  0.9629629629629631\n",
      "Cross Validation Error =  0.037037037037037035\n",
      "Standard Deviation =  0.03312693299999688\n",
      "Cross Validation Accuracy =  0.9629629629629631\n",
      "Cross Validation Error =  0.037037037037037035\n",
      "Standard Deviation =  0.03312693299999688\n",
      "Cross Validation Accuracy =  0.9555555555555557\n",
      "Cross Validation Error =  0.044444444444444446\n",
      "Standard Deviation =  0.04444444444444444\n",
      "Cross Validation Accuracy =  0.9703703703703704\n",
      "Cross Validation Error =  0.02962962962962963\n",
      "Standard Deviation =  0.045662325947918345\n",
      "Cross Validation Accuracy =  0.9629629629629631\n",
      "Cross Validation Error =  0.03703703703703704\n",
      "Standard Deviation =  0.04566232594791835\n",
      "Cross Validation Accuracy =  0.9703703703703704\n",
      "Cross Validation Error =  0.02962962962962963\n",
      "Standard Deviation =  0.045662325947918345\n",
      "Cross Validation Accuracy =  0.9629629629629631\n",
      "Cross Validation Error =  0.03703703703703704\n",
      "Standard Deviation =  0.06372092790401947\n"
     ]
    },
    {
     "data": {
      "image/png": "[encoded data removed]",
      "text/plain": [
       "<matplotlib.figure.Figure at 0x27c995a44a8>"
      ]
     },
     "metadata": {},
     "output_type": "display_data"
    }
   ],
   "source": [
    "k_values = range(1, 11)\n",
    "\n",
    "k_fold_result = learn_k_fold(9, learn_sample, k_values)\n",
    "\n",
    "error_values = list()\n",
    "error_values_with_sd = list()\n",
    "error_values_without_sd = list()\n",
    "for k, acc, err, sd in k_fold_result:\n",
    "    error_values.append(err)\n",
    "    error_values_with_sd.append(err + sd)\n",
    "    error_values_without_sd.append(err - sd)\n",
    "\n",
    "plt.plot(k_values, error_values, 'b', label = \"CV error\")\n",
    "plt.plot(k_values, error_values_without_sd, 'r', label = \"CV error - standard deviation\") \n",
    "plt.plot(k_values, error_values_with_sd, 'g', label = \"CV error + standard deviation\")\n",
    "plt.legend(bbox_to_anchor=(1.05, 1), loc=2, borderaxespad=0.)\n",
    "plt.xlabel(\"K Value\")\n",
    "plt.ylabel(\"Сross validation error +/- stadard deviation, %\")\n",
    "plt.show()"
   ]
  },
  {
   "cell_type": "code",
   "execution_count": 102,
   "metadata": {},
   "outputs": [
    {
     "name": "stdout",
     "output_type": "stream",
     "text": [
      "Cross Validation Accuracy =  0.9629629629629631\n",
      "Cross Validation Error =  0.03703703703703704\n",
      "Standard Deviation =  0.06372092790401947\n",
      "Cross Validation Accuracy =  0.9703703703703704\n",
      "Cross Validation Error =  0.02962962962962963\n",
      "Standard Deviation =  0.045662325947918345\n",
      "Cross Validation Accuracy =  0.9333333333333331\n",
      "Cross Validation Error =  0.06666666666666668\n",
      "Standard Deviation =  0.0628539361054709\n",
      "Cross Validation Accuracy =  0.940740740740741\n",
      "Cross Validation Error =  0.05925925925925926\n",
      "Standard Deviation =  0.06625386599999378\n",
      "Cross Validation Accuracy =  0.9407407407407408\n",
      "Cross Validation Error =  0.05925925925925926\n",
      "Standard Deviation =  0.05832598425193934\n",
      "Cross Validation Accuracy =  0.9185185185185186\n",
      "Cross Validation Error =  0.08148148148148147\n",
      "Standard Deviation =  0.08181748901620192\n",
      "Cross Validation Accuracy =  0.9037037037037039\n",
      "Cross Validation Error =  0.0962962962962963\n",
      "Standard Deviation =  0.10475656017578482\n",
      "Cross Validation Accuracy =  0.5925925925925927\n",
      "Cross Validation Error =  0.40740740740740744\n",
      "Standard Deviation =  0.21873811941086518\n",
      "Cross Validation Accuracy =  0.4148148148148148\n",
      "Cross Validation Error =  0.5851851851851851\n",
      "Standard Deviation =  0.20068469902435654\n",
      "Cross Validation Accuracy =  0.40740740740740744\n",
      "Cross Validation Error =  0.5925925925925926\n",
      "Standard Deviation =  0.19230748127032843\n"
     ]
    },
    {
     "data": {
      "image/png": "[encoded data removed]",
      "text/plain": [
       "<matplotlib.figure.Figure at 0x27c9945b2e8>"
      ]
     },
     "metadata": {},
     "output_type": "display_data"
    }
   ],
   "source": [
    "k_values = range(10, 110, 10)\n",
    "\n",
    "k_fold_result = learn_k_fold(9, learn_sample, k_values)\n",
    "\n",
    "error_values = list()\n",
    "error_values_with_sd = list()\n",
    "error_values_without_sd = list()\n",
    "for k, acc, err, sd in k_fold_result:\n",
    "    error_values.append(err)\n",
    "    error_values_with_sd.append(err + sd)\n",
    "    error_values_without_sd.append(err - sd)\n",
    "\n",
    "plt.plot(k_values, error_values, 'b', label = \"CV error\")\n",
    "plt.plot(k_values, error_values_without_sd, 'r', label = \"CV error - standard deviation\") \n",
    "plt.plot(k_values, error_values_with_sd, 'g', label = \"CV error + standard deviation\")\n",
    "plt.legend(bbox_to_anchor=(1.05, 1), loc=2, borderaxespad=0.)\n",
    "plt.xlabel(\"K Value\")\n",
    "plt.ylabel(\"Сross validation error +/- stadard deviation, %\")\n",
    "plt.show()"
   ]
  },
  {
   "cell_type": "code",
   "execution_count": 106,
   "metadata": {},
   "outputs": [
    {
     "name": "stdout",
     "output_type": "stream",
     "text": [
      "Accurancy: 0.466667; error: 0.533333\n"
     ]
    }
   ],
   "source": [
    "best_k = 4\n",
    "\n",
    "bad_count = 0\n",
    "good_count = 0\n",
    "for item in test_sample:\n",
    "    mark = classify(item[:-1], learn_sample, best_k)\n",
    "    if mark == item[MARK_INDEX]:\n",
    "        good_count += 1\n",
    "    else:\n",
    "        bad_count += 1\n",
    "        \n",
    "print(\"Accurancy: %f; error: %f\" % (good_count / len(test_sample), bad_count / len(test_sample)))\n",
    "    "
   ]
  },
  {
   "cell_type": "code",
   "execution_count": null,
   "metadata": {
    "collapsed": true
   },
   "outputs": [],
   "source": []
  }
 ],
 "metadata": {
  "kernelspec": {
   "display_name": "Python 3",
   "language": "python",
   "name": "python3"
  },
  "language_info": {
   "codemirror_mode": {
    "name": "ipython",
    "version": 3
   },
   "file_extension": ".py",
   "mimetype": "text/x-python",
   "name": "python",
   "nbconvert_exporter": "python",
   "pygments_lexer": "ipython3",
   "version": "3.6.1"
  }
 },
 "nbformat": 4,
 "nbformat_minor": 2
}
